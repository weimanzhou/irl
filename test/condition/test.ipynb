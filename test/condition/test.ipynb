{
 "cells": [
  {
   "cell_type": "code",
   "execution_count": 1,
   "metadata": {
    "collapsed": true
   },
   "outputs": [],
   "source": [
    "import threading"
   ]
  },
  {
   "cell_type": "code",
   "execution_count": 2,
   "outputs": [],
   "source": [
    "cond = threading.Condition()"
   ],
   "metadata": {
    "collapsed": false,
    "pycharm": {
     "name": "#%%\n"
    }
   }
  },
  {
   "cell_type": "code",
   "execution_count": 6,
   "outputs": [],
   "source": [
    "class TianMao(threading.Thread):\n",
    "    def __init__(self, cond):\n",
    "        super().__init__(name=\"天猫精灵\")\n",
    "        self.cond = cond\n",
    "\n",
    "    def run(self):\n",
    "        self.cond.acquire()\n",
    "\n",
    "        print(\"{} : 小爱同学\".format(self.name))\n",
    "        self.cond.notify()\n",
    "        self.cond.wait()\n",
    "\n",
    "        print(\"{} : 我们来对古诗吧\".format(self.name))\n",
    "        self.cond.notify()\n",
    "        self.cond.wait()\n",
    "\n",
    "        print(\"{} : 我住长江头\".format(self.name))\n",
    "        self.cond.notify()\n",
    "        self.cond.wait()\n",
    "\n",
    "        self.cond.release()"
   ],
   "metadata": {
    "collapsed": false,
    "pycharm": {
     "name": "#%%\n"
    }
   }
  },
  {
   "cell_type": "code",
   "execution_count": 7,
   "outputs": [],
   "source": [
    "class XiaoAi(threading.Thread):\n",
    "    def __init__(self, cond):\n",
    "        super().__init__(name=\"小爱\")\n",
    "        self.cond = cond\n",
    "\n",
    "    def run(self):\n",
    "        self.cond.acquire()\n",
    "\n",
    "        self.cond.wait()\n",
    "        print(\"{} : 在\".format(self.name))\n",
    "        self.cond.notify()\n",
    "\n",
    "        self.cond.wait()\n",
    "        print(\"{} : 好啊\".format(self.name))\n",
    "        self.cond.notify()\n",
    "\n",
    "        self.cond.wait()\n",
    "        print(\"{} : 不聊了，再见\".format(self.name))\n",
    "        self.cond.notify()\n",
    "\n",
    "        self.cond.release()"
   ],
   "metadata": {
    "collapsed": false,
    "pycharm": {
     "name": "#%%\n"
    }
   }
  },
  {
   "cell_type": "code",
   "execution_count": 11,
   "outputs": [
    {
     "name": "stdout",
     "output_type": "stream",
     "text": [
      "天猫精灵 : 小爱同学\n",
      "小爱 : 在\n",
      "天猫精灵 : 我们来对古诗吧\n",
      "小爱 : 好啊\n",
      "天猫精灵 : 我住长江头\n",
      "小爱 : 不聊了，再见\n"
     ]
    }
   ],
   "source": [
    "cond = threading.Condition()\n",
    "xiaoai = XiaoAi(cond)\n",
    "tianmao = TianMao(cond)\n",
    "\n",
    "xiaoai.start()\n",
    "tianmao.start()"
   ],
   "metadata": {
    "collapsed": false,
    "pycharm": {
     "name": "#%%\n"
    }
   }
  },
  {
   "cell_type": "code",
   "execution_count": null,
   "outputs": [],
   "source": [],
   "metadata": {
    "collapsed": false,
    "pycharm": {
     "name": "#%%\n"
    }
   }
  }
 ],
 "metadata": {
  "kernelspec": {
   "display_name": "Python 3",
   "language": "python",
   "name": "python3"
  },
  "language_info": {
   "codemirror_mode": {
    "name": "ipython",
    "version": 2
   },
   "file_extension": ".py",
   "mimetype": "text/x-python",
   "name": "python",
   "nbconvert_exporter": "python",
   "pygments_lexer": "ipython2",
   "version": "2.7.6"
  }
 },
 "nbformat": 4,
 "nbformat_minor": 0
}